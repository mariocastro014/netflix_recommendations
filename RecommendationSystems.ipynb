{
 "cells": [
  {
   "cell_type": "code",
   "execution_count": 16,
   "metadata": {},
   "outputs": [
    {
     "name": "stderr",
     "output_type": "stream",
     "text": [
      "C:\\Users\\Mario Jesus\\AppData\\Local\\Temp\\ipykernel_24856\\3674537147.py:7: ParserWarning: Length of header or names does not match length of data. This leads to a loss of data with index_col=False.\n",
      "  ratings_df = pd.read_csv('data/u.data', sep='\\t', index_col=False, names=['userId', 'movieId', 'rating'])\n"
     ]
    },
    {
     "data": {
      "text/html": [
       "<div>\n",
       "<style scoped>\n",
       "    .dataframe tbody tr th:only-of-type {\n",
       "        vertical-align: middle;\n",
       "    }\n",
       "\n",
       "    .dataframe tbody tr th {\n",
       "        vertical-align: top;\n",
       "    }\n",
       "\n",
       "    .dataframe thead th {\n",
       "        text-align: right;\n",
       "    }\n",
       "</style>\n",
       "<table border=\"1\" class=\"dataframe\">\n",
       "  <thead>\n",
       "    <tr style=\"text-align: right;\">\n",
       "      <th></th>\n",
       "      <th>userId</th>\n",
       "      <th>movieId</th>\n",
       "      <th>rating</th>\n",
       "      <th>average</th>\n",
       "      <th>rating_centered</th>\n",
       "    </tr>\n",
       "  </thead>\n",
       "  <tbody>\n",
       "    <tr>\n",
       "      <th>0</th>\n",
       "      <td>196</td>\n",
       "      <td>242</td>\n",
       "      <td>3</td>\n",
       "      <td>3.615385</td>\n",
       "      <td>-0.615385</td>\n",
       "    </tr>\n",
       "    <tr>\n",
       "      <th>1</th>\n",
       "      <td>186</td>\n",
       "      <td>302</td>\n",
       "      <td>3</td>\n",
       "      <td>3.413043</td>\n",
       "      <td>-0.413043</td>\n",
       "    </tr>\n",
       "    <tr>\n",
       "      <th>2</th>\n",
       "      <td>22</td>\n",
       "      <td>377</td>\n",
       "      <td>1</td>\n",
       "      <td>3.351562</td>\n",
       "      <td>-2.351562</td>\n",
       "    </tr>\n",
       "    <tr>\n",
       "      <th>3</th>\n",
       "      <td>244</td>\n",
       "      <td>51</td>\n",
       "      <td>2</td>\n",
       "      <td>3.651261</td>\n",
       "      <td>-1.651261</td>\n",
       "    </tr>\n",
       "    <tr>\n",
       "      <th>4</th>\n",
       "      <td>166</td>\n",
       "      <td>346</td>\n",
       "      <td>1</td>\n",
       "      <td>3.550000</td>\n",
       "      <td>-2.550000</td>\n",
       "    </tr>\n",
       "    <tr>\n",
       "      <th>...</th>\n",
       "      <td>...</td>\n",
       "      <td>...</td>\n",
       "      <td>...</td>\n",
       "      <td>...</td>\n",
       "      <td>...</td>\n",
       "    </tr>\n",
       "    <tr>\n",
       "      <th>99995</th>\n",
       "      <td>880</td>\n",
       "      <td>476</td>\n",
       "      <td>3</td>\n",
       "      <td>3.426630</td>\n",
       "      <td>-0.426630</td>\n",
       "    </tr>\n",
       "    <tr>\n",
       "      <th>99996</th>\n",
       "      <td>716</td>\n",
       "      <td>204</td>\n",
       "      <td>5</td>\n",
       "      <td>3.888476</td>\n",
       "      <td>1.111524</td>\n",
       "    </tr>\n",
       "    <tr>\n",
       "      <th>99997</th>\n",
       "      <td>276</td>\n",
       "      <td>1090</td>\n",
       "      <td>1</td>\n",
       "      <td>3.465251</td>\n",
       "      <td>-2.465251</td>\n",
       "    </tr>\n",
       "    <tr>\n",
       "      <th>99998</th>\n",
       "      <td>13</td>\n",
       "      <td>225</td>\n",
       "      <td>2</td>\n",
       "      <td>3.097484</td>\n",
       "      <td>-1.097484</td>\n",
       "    </tr>\n",
       "    <tr>\n",
       "      <th>99999</th>\n",
       "      <td>12</td>\n",
       "      <td>203</td>\n",
       "      <td>3</td>\n",
       "      <td>4.392157</td>\n",
       "      <td>-1.392157</td>\n",
       "    </tr>\n",
       "  </tbody>\n",
       "</table>\n",
       "<p>100000 rows × 5 columns</p>\n",
       "</div>"
      ],
      "text/plain": [
       "       userId  movieId  rating   average  rating_centered\n",
       "0         196      242       3  3.615385        -0.615385\n",
       "1         186      302       3  3.413043        -0.413043\n",
       "2          22      377       1  3.351562        -2.351562\n",
       "3         244       51       2  3.651261        -1.651261\n",
       "4         166      346       1  3.550000        -2.550000\n",
       "...       ...      ...     ...       ...              ...\n",
       "99995     880      476       3  3.426630        -0.426630\n",
       "99996     716      204       5  3.888476         1.111524\n",
       "99997     276     1090       1  3.465251        -2.465251\n",
       "99998      13      225       2  3.097484        -1.097484\n",
       "99999      12      203       3  4.392157        -1.392157\n",
       "\n",
       "[100000 rows x 5 columns]"
      ]
     },
     "execution_count": 16,
     "metadata": {},
     "output_type": "execute_result"
    }
   ],
   "source": [
    "# Read the movies database\n",
    "import pandas as pd\n",
    "import numpy as np\n",
    "from sklearn.metrics.pairwise import cosine_distances, cosine_similarity\n",
    "from sklearn.feature_extraction.text import TfidfVectorizer\n",
    "\n",
    "ratings_df = pd.read_csv('data/u.data', sep='\\t', index_col=False, names=['userId', 'movieId', 'rating'])\n",
    "movies_df = pd.read_csv('data/u.item', sep='|', header=0, index_col=False, encoding='ISO-8859-1', names= ['movieId', 'title', 'releaseDate','videoReleaseDate','IMDbURL','unknown','Action','Adventure','Animation',\"Children'\",'Comedy','Crime','Documentary','Drama','Fantasy','Film-Noir','Horror','Musical','Mystery','Romance','Sci-Fi','Thriller','War','Western'])\n",
    "\n",
    "# Add a column with the centered ratings\n",
    "average_df = ratings_df[['userId', 'rating']].groupby(['userId'], as_index=False).mean().rename(columns={'rating': 'average'})\n",
    "ratings_df = pd.merge(ratings_df, average_df, on='userId', how='left')\n",
    "ratings_df['rating_centered'] = ratings_df['rating'] - ratings_df['average']\n",
    "ratings_df"
   ]
  },
  {
   "cell_type": "code",
   "execution_count": 17,
   "metadata": {},
   "outputs": [
    {
     "data": {
      "text/plain": [
       "array([[ 0.        ,  0.        ,  0.        , ...,  0.        ,\n",
       "         0.        ,  0.        ],\n",
       "       [ 0.        ,  1.38970588, -0.61029412, ...,  0.        ,\n",
       "         0.        ,  0.        ],\n",
       "       [ 0.        ,  0.29032258,  0.        , ...,  0.        ,\n",
       "         0.        ,  0.        ],\n",
       "       ...,\n",
       "       [ 0.        ,  0.95454545,  0.        , ...,  0.        ,\n",
       "         0.        ,  0.        ],\n",
       "       [ 0.        ,  0.        ,  0.        , ...,  0.        ,\n",
       "         0.        ,  0.        ],\n",
       "       [ 0.        ,  0.        ,  1.58928571, ...,  0.        ,\n",
       "         0.        ,  0.        ]])"
      ]
     },
     "execution_count": 17,
     "metadata": {},
     "output_type": "execute_result"
    }
   ],
   "source": [
    "# Build the matrix of user's scores to movies\n",
    "# Remember: The rows are the users and the movies the columns\n",
    "# We can use the ID's as the indexes of the array but the first column and row will be 0\n",
    "nUsers = ratings_df.userId.unique().size\n",
    "nMovies = ratings_df.movieId.unique().size\n",
    "\n",
    "ratingsMatrix = np.zeros((nUsers+1, nMovies+1))\n",
    "for index, rating in ratings_df.iterrows():\n",
    "    ratingsMatrix[int(rating.userId), int(rating.movieId)] = rating.rating_centered\n",
    "\n",
    "ratingsMatrix\n",
    "    \n",
    "    "
   ]
  },
  {
   "cell_type": "code",
   "execution_count": 18,
   "metadata": {},
   "outputs": [
    {
     "data": {
      "text/plain": [
       "array([[0.        , 1.        , 1.        , ..., 1.        , 1.        ,\n",
       "        1.        ],\n",
       "       [1.        , 0.        , 1.05836654, ..., 1.        , 0.94662278,\n",
       "        1.03320282],\n",
       "       [1.        , 1.05836654, 0.        , ..., 1.        , 0.99807373,\n",
       "        0.96354762],\n",
       "       ...,\n",
       "       [1.        , 1.        , 1.        , ..., 0.        , 1.        ,\n",
       "        1.        ],\n",
       "       [1.        , 0.94662278, 0.99807373, ..., 1.        , 0.        ,\n",
       "        1.        ],\n",
       "       [1.        , 1.03320282, 0.96354762, ..., 1.        , 1.        ,\n",
       "        0.        ]])"
      ]
     },
     "execution_count": 18,
     "metadata": {},
     "output_type": "execute_result"
    }
   ],
   "source": [
    "# Collaborative filtering - Memory based\n",
    "# --------------------------------------\n",
    "\n",
    "# Item view: I will recommend movies based on user choice\n",
    "\n",
    "# Let's say that user's chooses movie 102 (check 50/500/449)\n",
    "# What movies can we recommend him?\n",
    "\n",
    "# Get the distances between movies \n",
    "# Because we are dealing with the columns (movies) we have to transpose the matrix\n",
    "distances = cosine_distances(ratingsMatrix.T)\n",
    "\n",
    "distances\n"
   ]
  },
  {
   "cell_type": "code",
   "execution_count": 19,
   "metadata": {},
   "outputs": [
    {
     "name": "stdout",
     "output_type": "stream",
     "text": [
      "My movie is:  Star Wars (1977)\n",
      "\n"
     ]
    }
   ],
   "source": [
    "myMovie = 50\n",
    "print(\"My movie is: \", movies_df[movies_df.movieId == myMovie].title.iloc[0])\n",
    "print()\n",
    "\n",
    "# ###################################################################\n",
    "# Insert here the code to get the 10 movies closer to my movie\n",
    "# ###################################################################\n",
    "\n",
    "\n",
    "# tf = TfidfVectorizer (analyzer='word', stop_words='english')\n",
    "# fqMatrix = tf.fit_transform (movies_df['summary'])\n",
    "# cosSim = cosine_similarity(fqMatrix, fqMatrix)"
   ]
  },
  {
   "cell_type": "code",
   "execution_count": 20,
   "metadata": {},
   "outputs": [],
   "source": [
    "# Collaborative filtering - Model based\n",
    "# --------------------------------------\n",
    "# First calculate the latent factors matrix using the Alternate Least Squares algorithm\n",
    "# Then make recommendations based on similarity\n",
    "\n",
    "# Metaparameters\n",
    "k = 100        # number of latent factors\n",
    "l = 0.1        # lambda. The same value for x and y\n",
    "accuracy = 0.999\n",
    "\n",
    "# X and Y initialization\n",
    "np.random.seed(42)\n",
    "X = np.random.normal(size=(ratingsMatrix.shape[0], k))\n",
    "Y = np.random.normal(size=(k, ratingsMatrix.shape[1]))\n",
    "\n",
    "# Alternate Least Squares algorithm\n",
    "converged = False\n",
    "pL = np.Inf\n",
    "while not converged:\n",
    "    y = Y.T\n",
    "    inv = np.linalg.inv(y.T.dot(y) + l*np.eye(k))\n",
    "    for u in range(0, X.shape[0]):\n",
    "        X[u] = ratingsMatrix[u,:].dot(y).dot(inv)\n",
    "    \n",
    "    inv = np.linalg.inv(X.T.dot(X) + l*np.eye(k))    \n",
    "    for i in range(0, Y.shape[1]):\n",
    "        Y[:,i] = ratingsMatrix[:,i].dot(X).dot(inv)\n",
    "        \n",
    "    L = np.square(ratingsMatrix - X.dot(Y)).sum()\n",
    "    L = L + l * (np.square(np.linalg.norm(X)) + np.square(np.linalg.norm(Y)))\n",
    "                     \n",
    "    # Improvement stop criteria\n",
    "    converged = (L / pL) > accuracy\n",
    "    \n",
    "    pL = L\n",
    "    "
   ]
  },
  {
   "cell_type": "code",
   "execution_count": 21,
   "metadata": {},
   "outputs": [
    {
     "name": "stdout",
     "output_type": "stream",
     "text": [
      "My movie is:  Star Wars (1977)\n",
      "\n"
     ]
    }
   ],
   "source": [
    "# Let's make predictions\n",
    "# Get the similarity matrix with the items latent factors\n",
    "myMovie = 50\n",
    "print(\"My movie is: \", movies_df[movies_df.movieId == myMovie].title.iloc[0])\n",
    "print()\n",
    "\n",
    "distances = cosine_distances(Y.T)\n",
    "\n",
    "# #####################################################################\n",
    "# Insert here the code to print the 10 movies closest to my movie\n",
    "# #####################################################################"
   ]
  },
  {
   "cell_type": "code",
   "execution_count": null,
   "metadata": {},
   "outputs": [],
   "source": []
  }
 ],
 "metadata": {
  "kernelspec": {
   "display_name": "Python 3 (ipykernel)",
   "language": "python",
   "name": "python3"
  },
  "language_info": {
   "codemirror_mode": {
    "name": "ipython",
    "version": 3
   },
   "file_extension": ".py",
   "mimetype": "text/x-python",
   "name": "python",
   "nbconvert_exporter": "python",
   "pygments_lexer": "ipython3",
   "version": "3.9.10"
  }
 },
 "nbformat": 4,
 "nbformat_minor": 4
}
